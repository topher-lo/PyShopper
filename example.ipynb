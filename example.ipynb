{
 "cells": [
  {
   "cell_type": "markdown",
   "id": "broad-validity",
   "metadata": {},
   "source": [
    "# PyShopper example\n",
    "---\n",
    "- This notebook contains a quick example of PyShopper that includes:\n",
    "1. Loading data\n",
    "2. Instantiating and fitting the Shopper model via MCMC sampling\n",
    "3. Inference diagnostics\n",
    "4. Prediction on unseen test data"
   ]
  },
  {
   "cell_type": "code",
   "execution_count": null,
   "id": "freelance-flavor",
   "metadata": {},
   "outputs": [],
   "source": [
    "# Imports\n",
    "\n",
    "import numpy as np\n",
    "import pandas as pd\n",
    "import warnings\n",
    "\n",
    "import theano\n",
    "\n",
    "from pyshopper import shopper\n",
    "\n",
    "from tqdm.notebook import tqdm\n",
    "\n",
    "# Ignore FutureWarning and UserWarning\n",
    "warnings.simplefilter(action=\"ignore\", category=FutureWarning)\n",
    "warnings.simplefilter(action=\"ignore\", category=UserWarning)"
   ]
  },
  {
   "cell_type": "markdown",
   "id": "respective-communication",
   "metadata": {},
   "source": [
    "## 1. Load data"
   ]
  },
  {
   "cell_type": "code",
   "execution_count": null,
   "id": "strange-nursing",
   "metadata": {},
   "outputs": [],
   "source": [
    "# Load data\n",
    "\n",
    "X_train = shopper.load_data('data/train.tsv',\n",
    "                            'data/prices.tsv')\n",
    "X_train"
   ]
  },
  {
   "cell_type": "code",
   "execution_count": null,
   "id": "happy-romantic",
   "metadata": {},
   "outputs": [],
   "source": [
    "# Limit data to random sample of 100 trips.\n",
    "\n",
    "sample_size = 1000\n",
    "\n",
    "groupby_baskets = X_train.groupby(['user_id', 'session_id'])\n",
    "baskets_idx = np.arange(groupby_baskets.ngroups)\n",
    "np.random.shuffle(baskets_idx)\n",
    "\n",
    "X_train_limited = X_train[groupby_baskets.ngroup()\\\n",
    "                                         .isin(baskets_idx[:sample_size])]\n",
    "X_train_limited = X_train_limited.sort_values(['session_id', 'user_id'])\\\n",
    "                                 .reset_index(drop=True)\n",
    "X_train_limited"
   ]
  },
  {
   "cell_type": "markdown",
   "id": "drawn-eligibility",
   "metadata": {},
   "source": [
    "## 2. Instantiate and fit model"
   ]
  },
  {
   "cell_type": "code",
   "execution_count": null,
   "id": "crude-minnesota",
   "metadata": {},
   "outputs": [],
   "source": [
    "# Create Shopper instance\n",
    "\n",
    "model = shopper.Shopper(X_train_limited)"
   ]
  },
  {
   "cell_type": "code",
   "execution_count": null,
   "id": "provincial-joyce",
   "metadata": {},
   "outputs": [],
   "source": [
    "# # Fit model with MCMC sampling\n",
    "\n",
    "# mcmc_res = model.fit(N=10000, method='MCMC')"
   ]
  },
  {
   "cell_type": "code",
   "execution_count": null,
   "id": "usual-terrain",
   "metadata": {},
   "outputs": [],
   "source": [
    "# # Results summary:\n",
    "# # Summary of common posterior statistics \n",
    "# # and sampling diagnostics\n",
    "\n",
    "# mcmc_res.summary()"
   ]
  },
  {
   "cell_type": "code",
   "execution_count": null,
   "id": "eastern-trial",
   "metadata": {},
   "outputs": [],
   "source": [
    "# Fit model with ADVI approximation\n",
    "\n",
    "advi_res = model.fit(N=10000, method='ADVI')"
   ]
  },
  {
   "cell_type": "code",
   "execution_count": null,
   "id": "common-mountain",
   "metadata": {},
   "outputs": [],
   "source": [
    "# Results summary:\n",
    "# Summary of common posterior statistics\n",
    "# Note: must define number of draws from approximated posterior distribution\n",
    "\n",
    "advi_res.summary(draws=1000)"
   ]
  },
  {
   "cell_type": "markdown",
   "id": "forced-terrain",
   "metadata": {},
   "source": [
    "## 3. Diagnostics"
   ]
  },
  {
   "cell_type": "code",
   "execution_count": null,
   "id": "valued-small",
   "metadata": {},
   "outputs": [],
   "source": [
    "# # Sampling trace plot\n",
    "\n",
    "# mcmc_res.trace_plot()"
   ]
  },
  {
   "cell_type": "code",
   "execution_count": null,
   "id": "subtle-stream",
   "metadata": {},
   "outputs": [],
   "source": [
    "# ELBO plot (ADVI)\n",
    "\n",
    "fig = advi_res.elbo_plot()"
   ]
  }
 ],
 "metadata": {
  "kernelspec": {
   "display_name": "Python [conda env:pyshopper] *",
   "language": "python",
   "name": "conda-env-pyshopper-py"
  },
  "language_info": {
   "codemirror_mode": {
    "name": "ipython",
    "version": 3
   },
   "file_extension": ".py",
   "mimetype": "text/x-python",
   "name": "python",
   "nbconvert_exporter": "python",
   "pygments_lexer": "ipython3",
   "version": "3.8.5"
  }
 },
 "nbformat": 4,
 "nbformat_minor": 5
}
