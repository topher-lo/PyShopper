{
 "cells": [
  {
   "cell_type": "markdown",
   "id": "pretty-practice",
   "metadata": {},
   "source": [
    "## Set-up (for colab)\n",
    "---"
   ]
  },
  {
   "cell_type": "code",
   "execution_count": 1,
   "id": "typical-handle",
   "metadata": {},
   "outputs": [],
   "source": [
    "%%capture\n",
    "!pip install pymc3==3.11"
   ]
  },
  {
   "cell_type": "markdown",
   "id": "broad-validity",
   "metadata": {},
   "source": [
    "# PyShopper example\n",
    "---\n",
    "- This notebook contains a quick example of PyShopper that includes:\n",
    "1. Loading data\n",
    "2. Instantiating and fitting the Shopper model via MCMC sampling or variational inference\n",
    "3. Inference diagnostics\n",
    "4. Prediction on unseen test data"
   ]
  },
  {
   "cell_type": "code",
   "execution_count": 2,
   "id": "freelance-flavor",
   "metadata": {},
   "outputs": [],
   "source": [
    "# Imports\n",
    "\n",
    "import numpy as np\n",
    "import pandas as pd\n",
    "import filelock\n",
    "import warnings\n",
    "\n",
    "import theano\n",
    "\n",
    "from pyshopper import shopper\n",
    "\n",
    "from tqdm.notebook import tqdm\n",
    "\n",
    "# Ignore FutureWarning and UserWarning\n",
    "warnings.simplefilter(action=\"ignore\", category=FutureWarning)\n",
    "warnings.simplefilter(action=\"ignore\", category=UserWarning)"
   ]
  },
  {
   "cell_type": "code",
   "execution_count": 3,
   "id": "federal-diagnosis",
   "metadata": {},
   "outputs": [],
   "source": [
    "import logging\n",
    "logger = logging.getLogger('filelock')\n",
    "logger.setLevel(logging.WARNING)"
   ]
  },
  {
   "cell_type": "code",
   "execution_count": 4,
   "id": "disturbed-absolute",
   "metadata": {},
   "outputs": [],
   "source": [
    "# URL to datasets\n",
    "DATA_URL = 'https://github.com/topher-lo/PyShopper/blob/main/data'"
   ]
  },
  {
   "cell_type": "markdown",
   "id": "respective-communication",
   "metadata": {},
   "source": [
    "## 1. Load data\n",
    "---"
   ]
  },
  {
   "cell_type": "code",
   "execution_count": 5,
   "id": "strange-nursing",
   "metadata": {},
   "outputs": [
    {
     "data": {
      "text/html": [
       "<div>\n",
       "<style scoped>\n",
       "    .dataframe tbody tr th:only-of-type {\n",
       "        vertical-align: middle;\n",
       "    }\n",
       "\n",
       "    .dataframe tbody tr th {\n",
       "        vertical-align: top;\n",
       "    }\n",
       "\n",
       "    .dataframe thead th {\n",
       "        text-align: right;\n",
       "    }\n",
       "</style>\n",
       "<table border=\"1\" class=\"dataframe\">\n",
       "  <thead>\n",
       "    <tr style=\"text-align: right;\">\n",
       "      <th></th>\n",
       "      <th>user_id</th>\n",
       "      <th>item_id</th>\n",
       "      <th>session_id</th>\n",
       "      <th>quantity</th>\n",
       "      <th>price</th>\n",
       "    </tr>\n",
       "  </thead>\n",
       "  <tbody>\n",
       "    <tr>\n",
       "      <th>0</th>\n",
       "      <td>1</td>\n",
       "      <td>100</td>\n",
       "      <td>391</td>\n",
       "      <td>1</td>\n",
       "      <td>1.0</td>\n",
       "    </tr>\n",
       "    <tr>\n",
       "      <th>1</th>\n",
       "      <td>2</td>\n",
       "      <td>100</td>\n",
       "      <td>391</td>\n",
       "      <td>1</td>\n",
       "      <td>1.0</td>\n",
       "    </tr>\n",
       "    <tr>\n",
       "      <th>2</th>\n",
       "      <td>3</td>\n",
       "      <td>100</td>\n",
       "      <td>391</td>\n",
       "      <td>1</td>\n",
       "      <td>1.0</td>\n",
       "    </tr>\n",
       "    <tr>\n",
       "      <th>3</th>\n",
       "      <td>4</td>\n",
       "      <td>100</td>\n",
       "      <td>391</td>\n",
       "      <td>1</td>\n",
       "      <td>1.0</td>\n",
       "    </tr>\n",
       "    <tr>\n",
       "      <th>4</th>\n",
       "      <td>5</td>\n",
       "      <td>100</td>\n",
       "      <td>391</td>\n",
       "      <td>1</td>\n",
       "      <td>1.0</td>\n",
       "    </tr>\n",
       "    <tr>\n",
       "      <th>...</th>\n",
       "      <td>...</td>\n",
       "      <td>...</td>\n",
       "      <td>...</td>\n",
       "      <td>...</td>\n",
       "      <td>...</td>\n",
       "    </tr>\n",
       "    <tr>\n",
       "      <th>1157</th>\n",
       "      <td>94</td>\n",
       "      <td>101</td>\n",
       "      <td>394</td>\n",
       "      <td>1</td>\n",
       "      <td>5.0</td>\n",
       "    </tr>\n",
       "    <tr>\n",
       "      <th>1158</th>\n",
       "      <td>112</td>\n",
       "      <td>101</td>\n",
       "      <td>394</td>\n",
       "      <td>1</td>\n",
       "      <td>5.0</td>\n",
       "    </tr>\n",
       "    <tr>\n",
       "      <th>1159</th>\n",
       "      <td>113</td>\n",
       "      <td>101</td>\n",
       "      <td>394</td>\n",
       "      <td>1</td>\n",
       "      <td>5.0</td>\n",
       "    </tr>\n",
       "    <tr>\n",
       "      <th>1160</th>\n",
       "      <td>114</td>\n",
       "      <td>101</td>\n",
       "      <td>394</td>\n",
       "      <td>1</td>\n",
       "      <td>5.0</td>\n",
       "    </tr>\n",
       "    <tr>\n",
       "      <th>1161</th>\n",
       "      <td>124</td>\n",
       "      <td>101</td>\n",
       "      <td>394</td>\n",
       "      <td>1</td>\n",
       "      <td>5.0</td>\n",
       "    </tr>\n",
       "  </tbody>\n",
       "</table>\n",
       "<p>1162 rows × 5 columns</p>\n",
       "</div>"
      ],
      "text/plain": [
       "      user_id  item_id  session_id  quantity  price\n",
       "0           1      100         391         1    1.0\n",
       "1           2      100         391         1    1.0\n",
       "2           3      100         391         1    1.0\n",
       "3           4      100         391         1    1.0\n",
       "4           5      100         391         1    1.0\n",
       "...       ...      ...         ...       ...    ...\n",
       "1157       94      101         394         1    5.0\n",
       "1158      112      101         394         1    5.0\n",
       "1159      113      101         394         1    5.0\n",
       "1160      114      101         394         1    5.0\n",
       "1161      124      101         394         1    5.0\n",
       "\n",
       "[1162 rows x 5 columns]"
      ]
     },
     "execution_count": 5,
     "metadata": {},
     "output_type": "execute_result"
    }
   ],
   "source": [
    "# Load data\n",
    "data = shopper.load_data(f'{DATA_URL}/train.tsv?raw=true', f'{DATA_URL}/prices.tsv?raw=true')\n",
    "unique_items = sorted(data['item_id'].unique())\n",
    "sessions_list = sorted(data['session_id'].unique())\n",
    "\n",
    "# Limit data to C (most frequent) items and W sessions\n",
    "# Note: we filter for trailing sessions because the tested dataset's sessions begin at the end of\n",
    "# the training dataset's sessions\n",
    "C = 2\n",
    "W = 10\n",
    "\n",
    "# Filter data\n",
    "X_train = (data.loc[data['item_id'].isin(unique_items[:C])]\n",
    "               .loc[data['session_id'].isin(sessions_list[-W:])]\n",
    "               .reset_index(drop=True))\n",
    "\n",
    "X_train"
   ]
  },
  {
   "cell_type": "markdown",
   "id": "drawn-eligibility",
   "metadata": {},
   "source": [
    "## 2. Instantiate and fit model\n",
    "---"
   ]
  },
  {
   "cell_type": "code",
   "execution_count": 6,
   "id": "crude-minnesota",
   "metadata": {},
   "outputs": [
    {
     "name": "stderr",
     "output_type": "stream",
     "text": [
      "INFO:root:Building the Shopper model...\n",
      "INFO:root:Done building the Shopper model.\n"
     ]
    }
   ],
   "source": [
    "# Create Shopper instance\n",
    "\n",
    "model = shopper.Shopper(X_train)"
   ]
  },
  {
   "cell_type": "code",
   "execution_count": 7,
   "id": "provincial-joyce",
   "metadata": {},
   "outputs": [],
   "source": [
    "# # Fit model with MCMC sampling\n",
    "\n",
    "# mcmc_res = model.fit(N=10000, method='MCMC')"
   ]
  },
  {
   "cell_type": "code",
   "execution_count": 8,
   "id": "usual-terrain",
   "metadata": {},
   "outputs": [],
   "source": [
    "# # Results summary:\n",
    "# # Summary of common posterior statistics \n",
    "# # and sampling diagnostics\n",
    "\n",
    "# mcmc_res.summary()"
   ]
  },
  {
   "cell_type": "code",
   "execution_count": 9,
   "id": "eastern-trial",
   "metadata": {},
   "outputs": [
    {
     "data": {
      "text/html": [
       "\n",
       "    <div>\n",
       "        <style>\n",
       "            /* Turns off some styling */\n",
       "            progress {\n",
       "                /* gets rid of default border in Firefox and Opera. */\n",
       "                border: none;\n",
       "                /* Needs to be in here for Safari polyfill so background images work as expected. */\n",
       "                background-size: auto;\n",
       "            }\n",
       "            .progress-bar-interrupted, .progress-bar-interrupted::-webkit-progress-bar {\n",
       "                background: #F44336;\n",
       "            }\n",
       "        </style>\n",
       "      <progress value='10' class='' max='10' style='width:300px; height:20px; vertical-align: middle;'></progress>\n",
       "      100.00% [10/10 00:00<00:00 Average Loss = 42,739]\n",
       "    </div>\n",
       "    "
      ],
      "text/plain": [
       "<IPython.core.display.HTML object>"
      ]
     },
     "metadata": {},
     "output_type": "display_data"
    },
    {
     "name": "stderr",
     "output_type": "stream",
     "text": [
      "Finished [100%]: Average Loss = 42,522\n",
      "INFO:pymc3.variational.inference:Finished [100%]: Average Loss = 42,522\n"
     ]
    }
   ],
   "source": [
    "# Fit model with ADVI approximation\n",
    "\n",
    "advi_res = model.fit(N=10, method='ADVI')"
   ]
  },
  {
   "cell_type": "code",
   "execution_count": 10,
   "id": "common-mountain",
   "metadata": {},
   "outputs": [],
   "source": [
    "# # Results summary:\n",
    "# # Summary of common posterior statistics\n",
    "# # Note: must define number of draws from approximated posterior distribution\n",
    "\n",
    "# advi_res.summary(draws=5)"
   ]
  },
  {
   "cell_type": "markdown",
   "id": "forced-terrain",
   "metadata": {},
   "source": [
    "## 3. Diagnostics\n",
    "---"
   ]
  },
  {
   "cell_type": "code",
   "execution_count": 11,
   "id": "valued-small",
   "metadata": {},
   "outputs": [],
   "source": [
    "# # Sampling trace plot\n",
    "\n",
    "# mcmc_res.trace_plot()"
   ]
  },
  {
   "cell_type": "code",
   "execution_count": 12,
   "id": "subtle-stream",
   "metadata": {},
   "outputs": [
    {
     "data": {
      "image/png": "[encoded data removed]",
      "text/plain": [
       "<Figure size 432x288 with 1 Axes>"
      ]
     },
     "metadata": {},
     "output_type": "display_data"
    }
   ],
   "source": [
    "# ELBO plot (ADVI)\n",
    "\n",
    "fig = advi_res.elbo_plot()"
   ]
  },
  {
   "cell_type": "markdown",
   "id": "known-usage",
   "metadata": {},
   "source": [
    "## 4. Prediction\n",
    "---"
   ]
  },
  {
   "cell_type": "code",
   "execution_count": 13,
   "id": "human-emperor",
   "metadata": {},
   "outputs": [
    {
     "data": {
      "text/html": [
       "<div>\n",
       "<style scoped>\n",
       "    .dataframe tbody tr th:only-of-type {\n",
       "        vertical-align: middle;\n",
       "    }\n",
       "\n",
       "    .dataframe tbody tr th {\n",
       "        vertical-align: top;\n",
       "    }\n",
       "\n",
       "    .dataframe thead th {\n",
       "        text-align: right;\n",
       "    }\n",
       "</style>\n",
       "<table border=\"1\" class=\"dataframe\">\n",
       "  <thead>\n",
       "    <tr style=\"text-align: right;\">\n",
       "      <th></th>\n",
       "      <th>user_id</th>\n",
       "      <th>item_id</th>\n",
       "      <th>session_id</th>\n",
       "      <th>quantity</th>\n",
       "      <th>price</th>\n",
       "    </tr>\n",
       "  </thead>\n",
       "  <tbody>\n",
       "    <tr>\n",
       "      <th>0</th>\n",
       "      <td>3</td>\n",
       "      <td>100</td>\n",
       "      <td>429</td>\n",
       "      <td>1</td>\n",
       "      <td>5.0</td>\n",
       "    </tr>\n",
       "    <tr>\n",
       "      <th>1</th>\n",
       "      <td>13</td>\n",
       "      <td>100</td>\n",
       "      <td>429</td>\n",
       "      <td>1</td>\n",
       "      <td>5.0</td>\n",
       "    </tr>\n",
       "    <tr>\n",
       "      <th>2</th>\n",
       "      <td>30</td>\n",
       "      <td>100</td>\n",
       "      <td>429</td>\n",
       "      <td>1</td>\n",
       "      <td>5.0</td>\n",
       "    </tr>\n",
       "    <tr>\n",
       "      <th>3</th>\n",
       "      <td>64</td>\n",
       "      <td>100</td>\n",
       "      <td>429</td>\n",
       "      <td>1</td>\n",
       "      <td>5.0</td>\n",
       "    </tr>\n",
       "    <tr>\n",
       "      <th>4</th>\n",
       "      <td>69</td>\n",
       "      <td>100</td>\n",
       "      <td>429</td>\n",
       "      <td>1</td>\n",
       "      <td>5.0</td>\n",
       "    </tr>\n",
       "    <tr>\n",
       "      <th>...</th>\n",
       "      <td>...</td>\n",
       "      <td>...</td>\n",
       "      <td>...</td>\n",
       "      <td>...</td>\n",
       "      <td>...</td>\n",
       "    </tr>\n",
       "    <tr>\n",
       "      <th>62</th>\n",
       "      <td>83</td>\n",
       "      <td>100</td>\n",
       "      <td>428</td>\n",
       "      <td>1</td>\n",
       "      <td>5.0</td>\n",
       "    </tr>\n",
       "    <tr>\n",
       "      <th>63</th>\n",
       "      <td>109</td>\n",
       "      <td>100</td>\n",
       "      <td>428</td>\n",
       "      <td>1</td>\n",
       "      <td>5.0</td>\n",
       "    </tr>\n",
       "    <tr>\n",
       "      <th>64</th>\n",
       "      <td>114</td>\n",
       "      <td>100</td>\n",
       "      <td>428</td>\n",
       "      <td>1</td>\n",
       "      <td>5.0</td>\n",
       "    </tr>\n",
       "    <tr>\n",
       "      <th>65</th>\n",
       "      <td>123</td>\n",
       "      <td>100</td>\n",
       "      <td>428</td>\n",
       "      <td>1</td>\n",
       "      <td>5.0</td>\n",
       "    </tr>\n",
       "    <tr>\n",
       "      <th>66</th>\n",
       "      <td>125</td>\n",
       "      <td>100</td>\n",
       "      <td>428</td>\n",
       "      <td>1</td>\n",
       "      <td>5.0</td>\n",
       "    </tr>\n",
       "  </tbody>\n",
       "</table>\n",
       "<p>67 rows × 5 columns</p>\n",
       "</div>"
      ],
      "text/plain": [
       "    user_id  item_id  session_id  quantity  price\n",
       "0         3      100         429         1    5.0\n",
       "1        13      100         429         1    5.0\n",
       "2        30      100         429         1    5.0\n",
       "3        64      100         429         1    5.0\n",
       "4        69      100         429         1    5.0\n",
       "..      ...      ...         ...       ...    ...\n",
       "62       83      100         428         1    5.0\n",
       "63      109      100         428         1    5.0\n",
       "64      114      100         428         1    5.0\n",
       "65      123      100         428         1    5.0\n",
       "66      125      100         428         1    5.0\n",
       "\n",
       "[67 rows x 5 columns]"
      ]
     },
     "execution_count": 13,
     "metadata": {},
     "output_type": "execute_result"
    }
   ],
   "source": [
    "# Load test data\n",
    "test_data = shopper.load_data(f'{DATA_URL}/test.tsv?raw=true',\n",
    "                              f'{DATA_URL}/prices.tsv?raw=true')\n",
    "test_sessions_list = sorted(test_data['session_id'].unique())\n",
    "\n",
    "W_test = int(0.33*W)\n",
    "\n",
    "# Limit data to C items and U users\n",
    "X_test = (test_data.loc[test_data['item_id'].isin(unique_items[:C])]\n",
    "                   .loc[test_data['session_id'].isin(test_sessions_list[-W_test:])]\n",
    "                   .reset_index(drop=True))\n",
    "\n",
    "X_test"
   ]
  },
  {
   "cell_type": "code",
   "execution_count": 14,
   "id": "working-particle",
   "metadata": {},
   "outputs": [
    {
     "name": "stderr",
     "output_type": "stream",
     "text": [
      "INFO:root:Sampling from posterior distribution...\n",
      "INFO:root:Sampling complete.\n"
     ]
    },
    {
     "data": {
      "text/html": [
       "\n",
       "    <div>\n",
       "        <style>\n",
       "            /* Turns off some styling */\n",
       "            progress {\n",
       "                /* gets rid of default border in Firefox and Opera. */\n",
       "                border: none;\n",
       "                /* Needs to be in here for Safari polyfill so background images work as expected. */\n",
       "                background-size: auto;\n",
       "            }\n",
       "            .progress-bar-interrupted, .progress-bar-interrupted::-webkit-progress-bar {\n",
       "                background: #F44336;\n",
       "            }\n",
       "        </style>\n",
       "      <progress value='10' class='' max='10' style='width:300px; height:20px; vertical-align: middle;'></progress>\n",
       "      100.00% [10/10 00:00<00:00]\n",
       "    </div>\n",
       "    "
      ],
      "text/plain": [
       "<IPython.core.display.HTML object>"
      ]
     },
     "metadata": {},
     "output_type": "display_data"
    },
    {
     "data": {
      "text/plain": [
       "array([[23, 65, 47, 41, 14,  5,  1, 62, 42, 57,  0, 55, 51,  6,  5, 14,\n",
       "        19, 39, 36, 32, 34,  4, 19, 21, 37, 59, 14, 39, 32,  2, 42,  5,\n",
       "         2, 64, 65, 50, 32,  3, 44, 37, 13, 31,  1, 63,  8, 44, 21, 39,\n",
       "        40,  5, 65, 49, 64, 62, 42, 54, 12, 15,  1, 33, 22, 17, 61, 21,\n",
       "        18, 40, 12],\n",
       "       [60, 11, 56, 59, 15,  9, 60, 47, 50, 49, 11, 22, 10, 62, 30, 20,\n",
       "         3, 32, 32, 47, 43, 53, 38,  4, 51, 48, 30, 57, 36, 38, 25,  0,\n",
       "        12,  9, 43, 33, 26, 53, 17, 36, 48, 16, 11, 32, 14, 64, 60, 43,\n",
       "        52, 50, 15, 61, 40, 60, 53, 20,  3,  7, 23, 61, 52,  0, 39, 36,\n",
       "         7,  5, 21],\n",
       "       [55, 20, 39, 46, 22, 65, 55, 17, 26, 32, 18,  9, 37, 36, 10, 17,\n",
       "        53, 17, 13, 26, 66,  7, 44, 48, 17, 47, 33, 40, 31, 29,  3, 58,\n",
       "        20,  5, 10, 41, 45,  1, 26,  7, 40,  9, 57, 26, 54,  4, 31, 12,\n",
       "        64, 52, 18, 45, 60, 40, 39,  8,  3, 62, 53, 43, 21, 33, 47, 53,\n",
       "        63, 49, 43],\n",
       "       [ 9, 14, 53, 42,  0,  9, 44,  0, 14, 28, 46, 43,  8, 46,  7, 20,\n",
       "        48, 43, 60, 44, 41, 12, 34, 13,  8, 66, 22, 53, 31, 50, 26, 31,\n",
       "        26, 15, 47, 18,  0, 36, 14, 54, 64, 64, 21,  9, 54, 34, 62, 63,\n",
       "        52, 32, 22, 51, 21, 11, 28, 64, 46, 41,  3, 30, 66,  7, 39, 56,\n",
       "        50, 46, 57],\n",
       "       [21, 32, 59, 60, 62, 54, 28, 38, 55, 33, 46, 50, 53, 33, 22, 12,\n",
       "        39,  1, 26, 38, 19, 29,  9, 10, 61, 34, 13, 27, 52, 16, 42, 11,\n",
       "         1, 29, 28, 33, 47, 66, 27, 33, 60, 18, 24,  5,  9, 65, 54, 57,\n",
       "        23, 15,  5, 16, 40, 47, 44, 17, 63, 47, 38, 42, 36,  8, 34, 48,\n",
       "         0,  6,  1],\n",
       "       [ 3, 60, 46, 38,  7, 26, 25,  9, 28, 23, 42, 42,  6, 34, 43, 29,\n",
       "        55, 44, 14,  3, 31,  9, 29, 65, 41, 34, 42, 25, 34, 65, 22, 65,\n",
       "        62, 14,  2,  3,  0, 12, 44, 11, 21, 51,  0, 50, 18, 13, 57, 31,\n",
       "        52, 58, 58, 18,  5, 48, 51, 66, 23, 22, 49, 20, 61, 62, 36, 48,\n",
       "        48,  7, 63],\n",
       "       [39, 50, 33, 53, 24,  9, 63,  4, 32, 55, 55, 38, 43, 24, 19, 33,\n",
       "        45, 49, 59, 49,  3, 26,  2, 40, 24, 53, 34,  6, 12, 49, 41,  3,\n",
       "        11, 46, 11, 50, 46,  8, 11, 66, 24, 33, 50, 65, 66, 58, 22, 11,\n",
       "        53, 30, 35, 55, 11, 37,  0, 37,  3,  4,  4, 43, 49, 32, 55, 23,\n",
       "        19, 62,  9],\n",
       "       [65,  1, 60,  9, 54, 28, 66, 11, 36, 55, 39, 40, 47, 36, 43, 41,\n",
       "        55,  1, 18, 56, 53, 24, 42, 18,  6, 37, 34, 40,  9, 56, 56, 46,\n",
       "        33, 19, 61, 45,  5, 64, 59, 55, 47, 31, 23, 64, 54, 10,  0, 23,\n",
       "        50, 66,  4, 34, 22, 66, 51, 61, 37, 35, 18, 10, 53, 50, 65, 66,\n",
       "        40, 50, 55],\n",
       "       [52, 11, 28, 13, 55, 30, 16, 45, 42, 21, 12, 45, 39, 49, 27, 51,\n",
       "        28, 40, 53, 32,  4,  9, 54, 30, 46, 13, 13,  0, 21, 41, 34, 33,\n",
       "        63, 28, 37, 50, 22, 42, 52, 65, 13, 62, 28, 15, 30, 65, 26, 20,\n",
       "        43, 17,  6, 13, 12, 14,  4, 31, 13, 26, 53, 38, 45, 14, 11, 10,\n",
       "        12,  8, 14],\n",
       "       [ 3, 12, 37,  6, 34, 38, 47, 10, 50, 41,  3, 62, 63,  2,  8, 53,\n",
       "        48, 15,  7, 33, 27, 40, 21, 32, 58, 10, 17, 46, 54, 26, 39, 12,\n",
       "        25, 38, 17,  8, 35,  0, 33, 16, 32, 12, 53, 39, 44, 49, 37,  4,\n",
       "        29, 41, 50, 25,  6, 19, 21, 43, 28, 21, 66, 30,  8,  5,  4, 17,\n",
       "        14, 14, 19]])"
      ]
     },
     "execution_count": 14,
     "metadata": {},
     "output_type": "execute_result"
    }
   ],
   "source": [
    "# ADVI Predictions\n",
    "\n",
    "advi_res.predict(X_test, draws=10)"
   ]
  }
 ],
 "metadata": {
  "kernelspec": {
   "display_name": "Python [conda env:pyshopper] *",
   "language": "python",
   "name": "conda-env-pyshopper-py"
  },
  "language_info": {
   "codemirror_mode": {
    "name": "ipython",
    "version": 3
   },
   "file_extension": ".py",
   "mimetype": "text/x-python",
   "name": "python",
   "nbconvert_exporter": "python",
   "pygments_lexer": "ipython3",
   "version": "3.8.8"
  }
 },
 "nbformat": 4,
 "nbformat_minor": 5
}
