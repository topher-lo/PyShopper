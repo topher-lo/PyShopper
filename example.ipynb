{
 "cells": [
  {
   "cell_type": "markdown",
   "id": "considered-variance",
   "metadata": {},
   "source": [
    "## Set-up (for colab)\n",
    "---"
   ]
  },
  {
   "cell_type": "code",
   "execution_count": null,
   "id": "romantic-patrick",
   "metadata": {},
   "outputs": [],
   "source": [
    "# %%capture\n",
    "# !pip install pymc3==3.11"
   ]
  },
  {
   "cell_type": "markdown",
   "id": "broad-validity",
   "metadata": {},
   "source": [
    "# PyShopper example\n",
    "---\n",
    "- This notebook contains a quick example of PyShopper that includes:\n",
    "1. Loading data\n",
    "2. Instantiating and fitting the Shopper model via MCMC sampling or variational inference\n",
    "3. Inference diagnostics\n",
    "4. Prediction on unseen test data"
   ]
  },
  {
   "cell_type": "code",
   "execution_count": null,
   "id": "freelance-flavor",
   "metadata": {},
   "outputs": [],
   "source": [
    "# Imports\n",
    "\n",
    "import numpy as np\n",
    "import pandas as pd\n",
    "import pymc3 as pm\n",
    "import filelock\n",
    "import warnings\n",
    "\n",
    "import theano\n",
    "\n",
    "from pyshopper import shopper\n",
    "from scipy import stats\n",
    "\n",
    "from tqdm.notebook import tqdm\n",
    "\n",
    "# Ignore FutureWarning and UserWarning\n",
    "warnings.simplefilter(action=\"ignore\", category=FutureWarning)\n",
    "warnings.simplefilter(action=\"ignore\", category=UserWarning)"
   ]
  },
  {
   "cell_type": "code",
   "execution_count": null,
   "id": "national-hartford",
   "metadata": {},
   "outputs": [],
   "source": [
    "import logging\n",
    "logger = logging.getLogger('filelock')\n",
    "logger.setLevel(logging.WARNING)"
   ]
  },
  {
   "cell_type": "code",
   "execution_count": null,
   "id": "quality-volleyball",
   "metadata": {},
   "outputs": [],
   "source": [
    "# URL to datasets\n",
    "DATA_URL = 'https://github.com/topher-lo/PyShopper/blob/main/data'"
   ]
  },
  {
   "cell_type": "markdown",
   "id": "respective-communication",
   "metadata": {},
   "source": [
    "## 1. Load data\n",
    "---"
   ]
  },
  {
   "cell_type": "code",
   "execution_count": null,
   "id": "strange-nursing",
   "metadata": {},
   "outputs": [],
   "source": [
    "# Load data\n",
    "data = shopper.load_data(f'{DATA_URL}/train.tsv?raw=true', f'{DATA_URL}/prices.tsv?raw=true')\n",
    "unique_items = sorted(data['item_id'].unique())\n",
    "sessions_list = sorted(data['session_id'].unique())\n",
    "\n",
    "# Limit data to C (most frequent) items and W sessions\n",
    "# Note: we filter for trailing sessions because the tested dataset's sessions begin at the end of\n",
    "# the training dataset's sessions\n",
    "C = 3\n",
    "W = 400\n",
    "\n",
    "# Filter data\n",
    "X_train = (data.loc[data['item_id'].isin(unique_items[:C])]\n",
    "               .loc[data['session_id'].isin(sessions_list[-W:])]\n",
    "               .reset_index(drop=True))\n",
    "\n",
    "X_train"
   ]
  },
  {
   "cell_type": "markdown",
   "id": "drawn-eligibility",
   "metadata": {},
   "source": [
    "## 2. Instantiate and fit model\n",
    "---"
   ]
  },
  {
   "cell_type": "code",
   "execution_count": null,
   "id": "crude-minnesota",
   "metadata": {},
   "outputs": [],
   "source": [
    "# Create Shopper instance\n",
    "\n",
    "model = shopper.Shopper(X_train)"
   ]
  },
  {
   "cell_type": "code",
   "execution_count": null,
   "id": "provincial-joyce",
   "metadata": {},
   "outputs": [],
   "source": [
    "# # Fit model with MCMC sampling\n",
    "\n",
    "# mcmc_res = model.fit(N=10000, method='MCMC')"
   ]
  },
  {
   "cell_type": "code",
   "execution_count": null,
   "id": "usual-terrain",
   "metadata": {},
   "outputs": [],
   "source": [
    "# # Results summary:\n",
    "# # Summary of common posterior statistics \n",
    "# # and sampling diagnostics\n",
    "\n",
    "# mcmc_res.summary()"
   ]
  },
  {
   "cell_type": "code",
   "execution_count": null,
   "id": "eastern-trial",
   "metadata": {},
   "outputs": [],
   "source": [
    "# Fit model with ADVI approximation\n",
    "\n",
    "advi_res = model.fit(N=50000, method='ADVI')"
   ]
  },
  {
   "cell_type": "code",
   "execution_count": null,
   "id": "common-mountain",
   "metadata": {},
   "outputs": [],
   "source": [
    "# # Results summary:\n",
    "# # Summary of common posterior statistics\n",
    "# # Note: must define number of draws from approximated posterior distribution\n",
    "\n",
    "# summary = advi_res.summary(draws=100)\n",
    "# summary"
   ]
  },
  {
   "cell_type": "markdown",
   "id": "forced-terrain",
   "metadata": {},
   "source": [
    "## 3. Diagnostics\n",
    "---"
   ]
  },
  {
   "cell_type": "code",
   "execution_count": null,
   "id": "valued-small",
   "metadata": {},
   "outputs": [],
   "source": [
    "# # Sampling trace plot\n",
    "\n",
    "# mcmc_res.trace_plot()"
   ]
  },
  {
   "cell_type": "code",
   "execution_count": null,
   "id": "subtle-stream",
   "metadata": {},
   "outputs": [],
   "source": [
    "# ELBO plot (ADVI)\n",
    "\n",
    "fig = advi_res.elbo_plot()"
   ]
  },
  {
   "cell_type": "code",
   "execution_count": null,
   "id": "third-freeware",
   "metadata": {},
   "outputs": [],
   "source": [
    "# ADVI posterior sampling trace plot\n",
    "\n",
    "fig = advi_res.trace_plot(draws=5000)"
   ]
  },
  {
   "cell_type": "markdown",
   "id": "genuine-combining",
   "metadata": {},
   "source": [
    "## 4. Prediction\n",
    "---"
   ]
  },
  {
   "cell_type": "code",
   "execution_count": null,
   "id": "solid-saver",
   "metadata": {},
   "outputs": [],
   "source": [
    "# Load test data\n",
    "test_data = shopper.load_data(f'{DATA_URL}/test.tsv?raw=true',\n",
    "                              f'{DATA_URL}/prices.tsv?raw=true')\n",
    "test_sessions_list = sorted(test_data['session_id'].unique())\n",
    "\n",
    "W_test = int(0.33*W)\n",
    "\n",
    "# Limit data to C items and U users\n",
    "X_test = (test_data.loc[test_data['item_id'].isin(unique_items[:C])]\n",
    "                   .loc[test_data['session_id'].isin(test_sessions_list[-W_test:])]\n",
    "                   .reset_index(drop=True))\n",
    "\n",
    "X_test.iloc[np.r_[0:4, -4:0]]"
   ]
  },
  {
   "cell_type": "code",
   "execution_count": null,
   "id": "improving-bandwidth",
   "metadata": {},
   "outputs": [],
   "source": [
    "# ADVI Predictions\n",
    "preds = advi_res.predict(X_test, draws=5000)\n",
    "sampled_preds = pd.DataFrame(preds['y'])"
   ]
  },
  {
   "cell_type": "code",
   "execution_count": null,
   "id": "sustainable-prague",
   "metadata": {},
   "outputs": [],
   "source": [
    "# Labels\n",
    "test_labels = pd.Series(pd.Categorical(X_test['item_id']).codes)\n",
    "test_labels.name = 'test_labels'"
   ]
  },
  {
   "cell_type": "code",
   "execution_count": null,
   "id": "medium-writer",
   "metadata": {},
   "outputs": [],
   "source": [
    "# Number of correctly labelled outcomes\n",
    "(sampled_preds.mode() == test_labels).T.value_counts()"
   ]
  },
  {
   "cell_type": "code",
   "execution_count": null,
   "id": "transsexual-antigua",
   "metadata": {
    "scrolled": true
   },
   "outputs": [],
   "source": [
    "# Sanity check\n",
    "sampled_preds.mode().T.join(test_labels)"
   ]
  }
 ],
 "metadata": {
  "kernelspec": {
   "display_name": "Python [conda env:pyshopper] *",
   "language": "python",
   "name": "conda-env-pyshopper-py"
  },
  "language_info": {
   "codemirror_mode": {
    "name": "ipython",
    "version": 3
   },
   "file_extension": ".py",
   "mimetype": "text/x-python",
   "name": "python",
   "nbconvert_exporter": "python",
   "pygments_lexer": "ipython3",
   "version": "3.8.8"
  }
 },
 "nbformat": 4,
 "nbformat_minor": 5
}
